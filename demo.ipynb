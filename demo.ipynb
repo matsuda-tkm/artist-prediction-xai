{
  "cells": [
    {
      "cell_type": "markdown",
      "metadata": {
        "id": "HuxHb8_JMmrN"
      },
      "source": [
        "# 概要\n",
        "学習済みのモデルを使って、歌詞からアーティスト名の予測＆LIMEによる解釈を可視化します。\n",
        "\n",
        "Google Colaboratoryで実行することを想定しており、このNotebookだけでデモが完結します。"
      ]
    },
    {
      "cell_type": "markdown",
      "metadata": {
        "id": "kKR8H7sbOYxG"
      },
      "source": [
        "# 準備"
      ]
    },
    {
      "cell_type": "markdown",
      "metadata": {},
      "source": [
        "ライブラリインストール"
      ]
    },
    {
      "cell_type": "code",
      "execution_count": 1,
      "metadata": {
        "id": "2HmQzlzYM8fh"
      },
      "outputs": [],
      "source": [
        "%%capture\n",
        "!pip install japanize-matplotlib\n",
        "!pip install lime\n",
        "!pip install janome"
      ]
    },
    {
      "cell_type": "markdown",
      "metadata": {},
      "source": [
        "GitHubから学習済みモデルなどをダウンロード"
      ]
    },
    {
      "cell_type": "code",
      "execution_count": null,
      "metadata": {},
      "outputs": [],
      "source": [
        "!git clone https://github.com/matsuda-tkm/artist-prediction-xai.git"
      ]
    },
    {
      "cell_type": "markdown",
      "metadata": {},
      "source": [
        "ライブラリのインポート"
      ]
    },
    {
      "cell_type": "code",
      "execution_count": null,
      "metadata": {
        "colab": {
          "base_uri": "https://localhost:8080/"
        },
        "id": "adOH-aTub3k7",
        "outputId": "668ab4a7-53af-4c13-800f-5a2ab28e771a"
      },
      "outputs": [],
      "source": [
        "import os\n",
        "import sys\n",
        "import torch\n",
        "import functools\n",
        "from tqdm import tqdm\n",
        "import japanize_matplotlib\n",
        "from collections import OrderedDict\n",
        "from IPython.display import display, HTML\n",
        "from lime.lime_text import LimeTextExplainer\n",
        "\n",
        "sys.path.append('/content/artist-prediction-xai')  # Google Colabの場合\n",
        "from network import CharacterCNN, CharacterCNNClassifier, CharacterCNNEmbedding\n",
        "from utils import *\n",
        "\n",
        "device = 'cuda' if torch.cuda.is_available() else 'cpu'\n",
        "print(device)\n",
        "\n",
        "# 保存先のパス\n",
        "PATH = '/content/artist-prediction-xai'  # Google Colabの場合"
      ]
    },
    {
      "cell_type": "markdown",
      "metadata": {},
      "source": [
        "`models`に格納されている学習済みアーティスト名の一覧を表示します。"
      ]
    },
    {
      "cell_type": "code",
      "execution_count": null,
      "metadata": {
        "colab": {
          "base_uri": "https://localhost:8080/"
        },
        "id": "-a8vLEBIPjrN",
        "outputId": "8c7d37cb-c510-45aa-cf82-4f7a1f5706b9"
      },
      "outputs": [],
      "source": [
        "for i,name in enumerate(os.listdir(os.path.join(PATH, \"models\"))):\n",
        "    print(f'{i:2} : {name}')"
      ]
    },
    {
      "cell_type": "markdown",
      "metadata": {},
      "source": [
        "上のセルで表示したIDを使って、分類対象とするアーティストを `select_id` で指定します。\n",
        "\n",
        "すべてのアーティストを対象にする場合は、`select_all = True`にします。"
      ]
    },
    {
      "cell_type": "code",
      "execution_count": null,
      "metadata": {
        "colab": {
          "base_uri": "https://localhost:8080/"
        },
        "id": "Z9096B2qZSP4",
        "outputId": "39b760fd-92ff-49cc-c62c-e2f461a24307"
      },
      "outputs": [],
      "source": [
        "select_all = True #@param {type:\"boolean\"}\n",
        "\n",
        "select_artist = dict()\n",
        "select_id = [0,1,2,3]  #@param\n",
        "for i,name in enumerate(os.listdir(os.path.join(PATH, 'models'))):\n",
        "    select_artist[name] = True if (i in select_id) or select_all else False\n",
        "\n",
        "print(f'You selected {sum(list(select_artist.values()))} artists.')"
      ]
    },
    {
      "cell_type": "markdown",
      "metadata": {
        "id": "YERQwd8dtWMz"
      },
      "source": [
        "モデルの読み込み"
      ]
    },
    {
      "cell_type": "code",
      "execution_count": null,
      "metadata": {
        "colab": {
          "base_uri": "https://localhost:8080/"
        },
        "id": "Fhmw5cEjqFiZ",
        "outputId": "7f99ac0c-65e3-4f91-d314-6e91ef400649"
      },
      "outputs": [],
      "source": [
        "print('Loading models...')\n",
        "\n",
        "# Embeddingの読み込み\n",
        "state_dict = torch.load(os.path.join(PATH, 'pretrain/model_fold1.pth'), map_location=device)\n",
        "state_dict = OrderedDict(list(state_dict.items())[0:1])\n",
        "embed = CharacterCNNEmbedding().to(device)\n",
        "embed.load_state_dict(state_dict)\n",
        "\n",
        "# Classifierの読み込み\n",
        "classifier = dict()\n",
        "for artist in tqdm(os.listdir(os.path.join(PATH, 'models'))):\n",
        "    if select_artist[artist]:\n",
        "        model_list = []\n",
        "        for file in os.listdir(os.path.join(PATH, 'models', artist)):\n",
        "            state_dict = torch.load(os.path.join(PATH, 'models', artist, file), map_location=device)\n",
        "            clf = CharacterCNNClassifier(2).to(device)\n",
        "            clf.load_state_dict(state_dict)\n",
        "            model_list.append(clf)\n",
        "        classifier[artist] = model_list\n",
        "\n",
        "artists = list(classifier.keys())\n",
        "explainer = LimeTextExplainer(class_names=artists)"
      ]
    },
    {
      "cell_type": "markdown",
      "metadata": {
        "id": "zjDWI6o7VjjC"
      },
      "source": [
        "# 推論と解釈"
      ]
    },
    {
      "cell_type": "markdown",
      "metadata": {
        "id": "_i4Ayj9DWRKZ"
      },
      "source": [
        "## 1ブロック分の歌詞\n",
        "- `txt`に歌詞1ブロック分を入力してください。\n",
        "- `figsize`でグラフのサイズを調整できます。\n",
        "- `num_samples`で、LIMEにおいてサンプルする近傍点の個数を指定できます。値が大きいほどLIMEの計算に時間がかかります。\n",
        "- LIME表示用の分かち書きは自動生成されますが、`wakachi_txt`(カスタム分かち書き)に自分で分かち書きした歌詞も入れることができます。`txt`に入力した歌詞を**半角スペース**で分かち書きしたものを入れてください。"
      ]
    },
    {
      "cell_type": "code",
      "execution_count": null,
      "metadata": {
        "colab": {
          "base_uri": "https://localhost:8080/",
          "height": 1000
        },
        "id": "U0fL5KfrC4J2",
        "outputId": "931ab297-7223-4752-e896-0d4fcfa5f77f"
      },
      "outputs": [],
      "source": [
        "# 歌詞1ブロック分 #################\n",
        "txt = \"\"\"麦わらの帽子の君が\n",
        "揺れたマリーゴールドに似てる\n",
        "あれは空がまだ青い夏のこと\n",
        "懐かしいと笑えたあの日の恋\"\"\"\n",
        "\n",
        "figsize = (18,3)  # グラフのサイズを調整 (横,縦)\n",
        "num_samples = 3  # サンプルする近傍点の個数\n",
        "\n",
        "# 分類結果の取得\n",
        "prob = predict_one_block(txt, embed, classifier, device)\n",
        "# 棒グラフで可視化\n",
        "show_predict_one_block(prob, artists, sort=True, figsize=figsize)\n",
        "\n",
        "# カスタム分かち書き ###############\n",
        "wakachi_txt = \"\"\"\n",
        "\"\"\"\n",
        "\n",
        "# LIME\n",
        "if wakachi_txt == '\\n':\n",
        "    wakachi_txt = wakachi_one_block(txt)\n",
        "predict_some_block_lime = functools.partial(predict_some_block,  embed=embed, classifier=classifier, device=device)\n",
        "exp = explainer.explain_instance(wakachi_txt, predict_some_block_lime, num_features=len(wakachi_txt.split()), labels=range(len(artists)), num_samples=num_samples)\n",
        "highlighted_text = highlight(exp, wakachi_txt, artists, sort_by=prob)\n",
        "display(HTML(highlighted_text))"
      ]
    },
    {
      "cell_type": "markdown",
      "metadata": {
        "id": "__pqsgrxWVxg"
      },
      "source": [
        "## 歌詞全体\n",
        "- `txt`に歌詞全体を入力してください。ブロック間は改行を1つはさんでください。\n",
        "- `figsize`でグラフのサイズを調整できます。\n",
        "- `num_samples`で、LIMEにおいてサンプルする近傍点の個数を指定できます。値が大きいほどLIMEの計算に時間がかかります。"
      ]
    },
    {
      "cell_type": "code",
      "execution_count": null,
      "metadata": {
        "colab": {
          "base_uri": "https://localhost:8080/",
          "height": 1000
        },
        "id": "APVL6DctTUho",
        "outputId": "3178af39-7a1a-43f7-e266-41d592a9e8fc"
      },
      "outputs": [],
      "source": [
        "# 歌詞全体 #######################\n",
        "txt = \"\"\"\n",
        "風の強さがちょっと\n",
        "心を揺さぶりすぎて\n",
        "真面目に見つめた\n",
        "君が恋しい\n",
        "\n",
        "でんぐり返しの日々\n",
        "可哀想なふりをして\n",
        "だらけてみたけど\n",
        "希望の光は\n",
        "\n",
        "目の前でずっと輝いている\n",
        "幸せだ\n",
        "\n",
        "麦わらの帽子の君が\n",
        "揺れたマリーゴールドに似てる\n",
        "あれは空がまだ青い夏のこと\n",
        "懐かしいと笑えたあの日の恋\n",
        "\n",
        "「もう離れないで」と\n",
        "泣きそうな目で見つめる君を\n",
        "雲のような優しさでそっとぎゅっと\n",
        "抱きしめて　抱きしめて　離さない\n",
        "\n",
        "本当の気持ち全部\n",
        "吐き出せるほど強くはない\n",
        "でも不思議なくらいに\n",
        "絶望は見えない\n",
        "\n",
        "目の奥にずっと写るシルエット\n",
        "大好きさ\n",
        "\n",
        "柔らかな肌を寄せあい\n",
        "少し冷たい空気を2人\n",
        "かみしめて歩く今日という日に\n",
        "何と名前をつけようかなんて話して\n",
        "\n",
        "ああ　アイラブユーの言葉じゃ\n",
        "足りないからとキスして\n",
        "雲がまだ2人の影を残すから\n",
        "いつまでも　いつまでも　このまま\n",
        "\n",
        "遥か遠い場所にいても\n",
        "繋がっていたいなあ\n",
        "2人の想いが\n",
        "同じでありますように\n",
        "\n",
        "麦わらの帽子の君が\n",
        "揺れたマリーゴールドに似てる\n",
        "あれは空がまだ青い夏のこと\n",
        "懐かしいと笑えたあの日の恋\n",
        "\n",
        "「もう離れないで」と\n",
        "泣きそうな目で見つめる君を\n",
        "雲のような優しさでそっとぎゅっと\n",
        "抱きしめて離さない\n",
        "\n",
        "ああ　アイラブユーの言葉じゃ\n",
        "足りないからとキスして\n",
        "雲がまだ2人の影を残すから\n",
        "いつまでも　いつまでも　このまま\n",
        "\n",
        "離さない\n",
        "いつまでも　いつまでも　離さない\n",
        "\"\"\"\n",
        "figsize = (18,10)  # グラフのサイズを調整 (横,縦)\n",
        "num_samples = 3  # サンプルする近傍点の個数\n",
        "\n",
        "# 分類結果の取得\n",
        "prob = predict_some_block(txt.split('\\n\\n'), embed, classifier, device)\n",
        "\n",
        "# 100%積み上げ棒グラフで可視化\n",
        "show_predict_whole_song(prob, artists, sort=True, raw_txt_arr=txt.split('\\n\\n'), figsize=figsize)\n",
        "\n",
        "# LIME\n",
        "wakachi_txt = wakachi_some_block(txt)\n",
        "predict_whole_song_lime = functools.partial(predict_whole_song, embed=embed, classifier=classifier, device=device)\n",
        "exp = explainer.explain_instance(wakachi_txt, predict_whole_song_lime, num_features=len(wakachi_txt.split()), labels=range(len(artists)), num_samples=num_samples)\n",
        "highlighted_text = highlight(exp, wakachi_txt, artists, sort_by=prob.mean(axis=0))\n",
        "display(HTML(highlighted_text))"
      ]
    }
  ],
  "metadata": {
    "colab": {
      "provenance": []
    },
    "kernelspec": {
      "display_name": "Python 3",
      "name": "python3"
    },
    "language_info": {
      "name": "python"
    }
  },
  "nbformat": 4,
  "nbformat_minor": 0
}
